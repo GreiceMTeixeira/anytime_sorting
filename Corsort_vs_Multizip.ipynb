{
  "cells": [
    {
      "cell_type": "markdown",
      "metadata": {
        "id": "view-in-github",
        "colab_type": "text"
      },
      "source": [
        "<a href=\"https://colab.research.google.com/github/GreiceMTeixeira/anytime_sorting/blob/master/Corsort_vs_Multizip.ipynb\" target=\"_parent\"><img src=\"https://colab.research.google.com/assets/colab-badge.svg\" alt=\"Open In Colab\"/></a>"
      ]
    },
    {
      "cell_type": "markdown",
      "id": "4a5aa38a",
      "metadata": {
        "id": "4a5aa38a"
      },
      "source": [
        "# Comparação: Corsort vs Multizip Sort\n",
        "Este notebook compara os algoritmos **Corsort-Δρ** e **Multizip Sort** com base na métrica de Spearman's Footrule.\n",
        "- O **Corsort** é um algoritmo anytime baseado na escolha dinâmica de comparações.\n",
        "- O **Multizip Sort** é uma variação do mergesort com interleaving de merges para melhor estimativa intermediária.\n"
      ]
    },
    {
      "cell_type": "code",
      "execution_count": null,
      "id": "1a6aa1ca",
      "metadata": {
        "id": "1a6aa1ca"
      },
      "outputs": [],
      "source": [
        "# Imports\n",
        "import numpy as np\n",
        "from scipy.stats import rankdata\n",
        "import matplotlib.pyplot as plt\n",
        "import math\n",
        "import time\n",
        "import random\n"
      ]
    },
    {
      "cell_type": "markdown",
      "id": "3ec94eef",
      "metadata": {
        "id": "3ec94eef"
      },
      "source": [
        "## Função de distância de Spearman Footrule"
      ]
    },
    {
      "cell_type": "code",
      "execution_count": null,
      "id": "e33de683",
      "metadata": {
        "id": "e33de683"
      },
      "outputs": [],
      "source": [
        "def spearman_footrule(estimate, true_sorted):\n",
        "    n = len(estimate)\n",
        "    rank_estimate = rankdata(estimate, method='ordinal')\n",
        "    rank_true = rankdata(true_sorted, method='ordinal')\n",
        "    return sum(abs(rank_estimate[i] - rank_true[i]) for i in range(n))"
      ]
    },
    {
      "cell_type": "markdown",
      "id": "6dc3e476",
      "metadata": {
        "id": "6dc3e476"
      },
      "source": [
        "## Implementação do Corsort"
      ]
    },
    {
      "cell_type": "code",
      "execution_count": null,
      "id": "9dc21446",
      "metadata": {
        "colab": {
          "base_uri": "https://localhost:8080/"
        },
        "id": "9dc21446",
        "outputId": "5ce9244a-d696-4194-9342-bbb7c34e5d5c"
      },
      "outputs": [
        {
          "output_type": "stream",
          "name": "stdout",
          "text": [
            "--- Ordenando e comparando o tempo de cada lista ---\n",
            "\n",
            "Lista 1 ordenada:\n",
            "[1, 13, 20, 20, 21, 34, 58, 71, 80, 87, 91, 99, 102, 105, 106, 121, 130, 130, 160, 166, 189, 191, 205, 214, 241, 243, 252, 270, 273, 276]\n",
            "[308, 313, 315, 330, 339, 343, 345, 366, 372, 385, 387, 387, 389, 401, 413, 427, 435, 454, 458, 459, 466, 474, 475, 476, 484, 491, 504, 508, 510, 560]\n",
            "[561, 562, 564, 565, 566, 600, 614, 646, 661, 663, 681, 686, 699, 700, 702, 729, 747, 769, 771, 775, 776, 782, 805, 818, 821, 831, 840, 856, 860, 871]\n",
            "[871, 875, 897, 931, 942, 955, 955, 957, 957, 975]\n",
            "\n",
            "Lista 2 ordenada:\n",
            "[4, 14, 14, 27, 32, 40, 40, 47, 52, 62, 64, 95, 98, 128, 134, 138, 156, 161, 187, 200, 201, 206, 216, 217, 230, 240, 251, 269, 270, 288]\n",
            "[295, 337, 343, 378, 379, 391, 392, 397, 406, 418, 455, 460, 461, 461, 471, 489, 492, 498, 502, 502, 520, 546, 553, 555, 563, 573, 574, 592, 612, 642]\n",
            "[647, 674, 683, 690, 701, 719, 724, 725, 726, 727, 738, 742, 748, 763, 766, 768, 772, 779, 791, 794, 804, 812, 815, 838, 839, 856, 857, 862, 863, 870]\n",
            "[871, 878, 891, 921, 929, 942, 957, 960, 986, 995]\n",
            "\n",
            "Lista 3 ordenada:\n",
            "[1, 27, 35, 52, 80, 85, 112, 112, 112, 129, 159, 170, 189, 219, 224, 224, 224, 230, 230, 232, 233, 242, 258, 267, 282, 317, 330, 339, 347, 358]\n",
            "[373, 376, 384, 384, 385, 386, 402, 406, 410, 441, 455, 471, 472, 484, 496, 505, 509, 524, 540, 555, 556, 563, 565, 573, 577, 607, 612, 619, 624, 627]\n",
            "[632, 637, 639, 641, 645, 648, 654, 663, 671, 671, 676, 681, 683, 683, 691, 698, 698, 709, 729, 733, 735, 744, 748, 795, 795, 797, 806, 818, 826, 829]\n",
            "[838, 854, 899, 951, 952, 957, 957, 972, 974, 996]\n",
            "\n",
            "Lista 4 ordenada:\n",
            "[1, 8, 36, 53, 98, 103, 111, 119, 122, 123, 130, 143, 143, 146, 147, 150, 151, 159, 183, 186, 197, 200, 202, 207, 226, 232, 246, 253, 253, 262]\n",
            "[279, 293, 297, 303, 325, 337, 345, 345, 348, 400, 402, 403, 414, 415, 419, 421, 438, 452, 463, 472, 488, 509, 510, 510, 550, 571, 586, 608, 609, 610]\n",
            "[623, 624, 627, 639, 640, 651, 658, 659, 672, 709, 710, 751, 763, 763, 766, 770, 778, 815, 819, 835, 836, 851, 863, 871, 880, 883, 896, 906, 919, 928]\n",
            "[931, 935, 945, 952, 954, 962, 967, 981, 987, 989]\n",
            "\n",
            "Lista 5 ordenada:\n",
            "[16, 17, 21, 26, 32, 36, 37, 45, 48, 98, 98, 98, 115, 127, 134, 152, 157, 160, 160, 162, 171, 180, 190, 191, 194, 219, 225, 229, 252, 255]\n",
            "[276, 276, 279, 282, 283, 301, 322, 337, 348, 364, 372, 374, 391, 397, 400, 437, 452, 459, 469, 472, 476, 480, 496, 503, 511, 515, 517, 546, 562, 565]\n",
            "[569, 579, 606, 608, 639, 658, 669, 680, 687, 699, 705, 719, 734, 744, 749, 775, 792, 797, 800, 815, 815, 821, 828, 860, 877, 878, 882, 891, 895, 895]\n",
            "[913, 915, 927, 954, 956, 959, 980, 982, 992, 995]\n",
            "\n",
            "\n",
            "Tempo da Lista 1: 3.474159 segundos\n",
            "Tempo da Lista 2: 3.440043 segundos\n",
            "Tempo da Lista 3: 4.630161 segundos\n",
            "Tempo da Lista 4: 3.650668 segundos\n",
            "Tempo da Lista 5: 3.574854 segundos\n",
            "\n",
            "**A lista que foi ordenada mais rapidamente é a Lista 2 com um tempo de 3.440043 segundos.**\n"
          ]
        }
      ],
      "source": [
        "def corsort(X, max_comparisons=None):\n",
        "    X = list(X)\n",
        "    n = len(X)\n",
        "    M = np.zeros((n, n), dtype=int)\n",
        "    comparisons = []\n",
        "    estimates = []\n",
        "\n",
        "    def update_partial_order(i, j):\n",
        "        nonlocal M\n",
        "        for k in range(n):\n",
        "            if M[k, i] == 1:\n",
        "                for l in range(n):\n",
        "                    if M[j, l] == 1:\n",
        "                        M[k, l] = 1\n",
        "                        M[l, k] = -1\n",
        "\n",
        "    def compute_a_d_I_delta_rho():\n",
        "        a = np.sum(M == 1, axis=1)\n",
        "        d = np.sum(M == 1, axis=0)\n",
        "        I = a + d\n",
        "        delta = d - a\n",
        "        with np.errstate(divide='ignore', invalid='ignore'):\n",
        "            rho = d / (a + d)\n",
        "            rho[np.isnan(rho)] = 0.5\n",
        "        return a, d, I, delta, rho\n",
        "\n",
        "    a, d, I, delta, rho = compute_a_d_I_delta_rho()\n",
        "\n",
        "    while np.any(M == 0):\n",
        "        incomparables = [(i, j) for i in range(n) for j in range(i+1, n)\n",
        "                         if M[i, j] == 0 and M[j, i] == 0]\n",
        "\n",
        "        if not incomparables or (max_comparisons and len(comparisons) >= max_comparisons):\n",
        "            break\n",
        "\n",
        "        best_pair = min(incomparables, key=lambda pair: (abs(delta[pair[0]] - delta[pair[1]]),\n",
        "                                                         max(I[pair[0]], I[pair[1]])))\n",
        "        i, j = best_pair\n",
        "\n",
        "        if X[i] < X[j]:\n",
        "            M[i, j] = 1\n",
        "            M[j, i] = -1\n",
        "        else:\n",
        "            M[i, j] = -1\n",
        "            M[j, i] = 1\n",
        "            i, j = j, i\n",
        "\n",
        "        comparisons.append((i, j))\n",
        "        update_partial_order(i, j)\n",
        "\n",
        "        a, d, I, delta, rho = compute_a_d_I_delta_rho()\n",
        "        sorted_indices = sorted(range(n), key=lambda i: rho[i])\n",
        "        estimate = [X[i] for i in sorted_indices]\n",
        "        estimates.append(list(estimate))\n",
        "\n",
        "    return estimates, comparisons\n",
        "\n",
        "def corsort_batch(n_listas=5, tamanho=100, seed=42):\n",
        "    np.random.seed(seed)\n",
        "    tempos = []\n",
        "    resultados = []\n",
        "\n",
        "    print('--- Ordenando e comparando o tempo de cada lista ---\\n')\n",
        "\n",
        "    for i in range(n_listas):\n",
        "        X = np.random.randint(0, 1000, tamanho)\n",
        "        true_sorted = sorted(X)\n",
        "\n",
        "        start = time.perf_counter()\n",
        "        estimates, _ = corsort(X)\n",
        "        end = time.perf_counter()\n",
        "\n",
        "        final_estimate = estimates[-1] if estimates else list(X)\n",
        "        tempo = end - start\n",
        "        tempos.append(tempo)\n",
        "        resultados.append((i + 1, final_estimate, tempo))\n",
        "\n",
        "        print(f\"Lista {i+1} ordenada:\")\n",
        "        for j in range(0, len(final_estimate), 30):\n",
        "          print([int(x) for x in final_estimate[j:j+30]])\n",
        "        print()\n",
        "\n",
        "    print()\n",
        "    for i, _, tempo in resultados:\n",
        "        print(f\"Tempo da Lista {i}: {tempo:.6f} segundos\")\n",
        "\n",
        "    mais_rapida = min(resultados, key=lambda x: x[2])\n",
        "    print(f\"\\n**A lista que foi ordenada mais rapidamente é a Lista {mais_rapida[0]} com um tempo de {mais_rapida[2]:.6f} segundos.**\")\n",
        "\n",
        "corsort_batch()\n"
      ]
    },
    {
      "cell_type": "markdown",
      "id": "20fe0af4",
      "metadata": {
        "id": "20fe0af4"
      },
      "source": [
        "## Implementação Multizip Sort"
      ]
    },
    {
      "cell_type": "code",
      "execution_count": null,
      "id": "163ac343",
      "metadata": {
        "colab": {
          "base_uri": "https://localhost:8080/"
        },
        "id": "163ac343",
        "outputId": "086ef28f-6831-4ee1-bc85-ecb3bdfe047e"
      },
      "outputs": [
        {
          "output_type": "stream",
          "name": "stdout",
          "text": [
            "\n",
            "--- Ordenando e comparando o tempo de cada lista ---\n",
            "\n",
            "Lista 1 ordenada: [11, 14, 27, 42, 43, 47, 65, 69, 70, 78, 80, 97, 101, 104, 112, 130, 140, 143, 157, 157, 159, 168, 186, 192, 198, 205, 245, 245, 254, 265, 274, 276, 280, 285, 293, 320, 322, 332, 335, 337, 361, 366, 375, 378, 379, 381, 391, 400, 416, 421, 425, 452, 480, 494, 497, 499, 500, 505, 506, 507, 507, 515, 528, 560, 566, 567, 569, 573, 584, 586, 595, 605, 611, 636, 643, 644, 655, 658, 705, 716, 741, 759, 762, 763, 766, 767, 776, 784, 789, 810, 846, 857, 911, 919, 929, 933, 948, 962, 993, 993]...\n",
            "\n",
            "Lista 2 ordenada: [34, 37, 77, 79, 96, 100, 104, 124, 127, 130, 133, 138, 149, 159, 195, 207, 209, 218, 226, 229, 231, 232, 263, 278, 331, 347, 355, 364, 370, 384, 388, 405, 407, 444, 451, 464, 472, 474, 478, 485, 497, 498, 499, 529, 542, 563, 581, 581, 587, 587, 596, 597, 606, 606, 624, 630, 631, 641, 643, 649, 650, 658, 660, 701, 708, 712, 713, 727, 757, 765, 765, 783, 787, 793, 795, 808, 816, 823, 831, 831, 840, 845, 861, 871, 883, 900, 920, 925, 930, 936, 949, 950, 961, 963, 966, 968, 980, 983, 990, 991]...\n",
            "\n",
            "Lista 3 ordenada: [0, 13, 16, 32, 58, 75, 79, 79, 86, 86, 99, 123, 123, 126, 127, 166, 168, 170, 187, 196, 204, 206, 208, 213, 215, 218, 241, 252, 257, 257, 262, 263, 271, 288, 296, 299, 299, 331, 340, 343, 347, 354, 366, 390, 391, 392, 404, 404, 438, 439, 504, 520, 527, 530, 545, 555, 565, 582, 598, 602, 615, 623, 639, 655, 663, 673, 673, 688, 694, 700, 725, 725, 733, 734, 739, 757, 767, 773, 789, 809, 819, 824, 830, 856, 857, 861, 906, 910, 912, 946, 949, 962, 964, 969, 973, 977, 980, 987, 988, 998]...\n",
            "\n",
            "Lista 4 ordenada: [14, 18, 18, 19, 26, 30, 36, 41, 50, 68, 93, 93, 98, 117, 124, 129, 143, 161, 170, 198, 199, 207, 209, 238, 263, 286, 291, 298, 314, 328, 336, 337, 342, 348, 354, 356, 357, 374, 379, 384, 406, 420, 426, 426, 449, 465, 484, 491, 493, 505, 514, 518, 525, 534, 539, 549, 554, 559, 574, 577, 591, 595, 596, 599, 642, 647, 660, 681, 689, 693, 695, 703, 705, 706, 710, 712, 712, 720, 734, 735, 739, 779, 811, 820, 843, 845, 850, 866, 887, 898, 926, 944, 945, 957, 972, 973, 975, 978, 986, 1000]...\n",
            "\n",
            "Lista 5 ordenada: [7, 8, 18, 23, 28, 54, 63, 67, 77, 84, 92, 109, 114, 115, 125, 138, 138, 155, 161, 173, 179, 183, 186, 191, 191, 208, 250, 264, 274, 276, 286, 291, 295, 302, 311, 312, 321, 321, 352, 355, 360, 369, 408, 409, 411, 427, 439, 450, 455, 510, 516, 528, 530, 533, 548, 560, 560, 577, 579, 591, 595, 599, 607, 610, 623, 646, 649, 663, 739, 745, 754, 757, 762, 768, 770, 776, 786, 799, 805, 811, 817, 822, 823, 846, 850, 855, 860, 873, 884, 890, 910, 911, 922, 923, 931, 934, 936, 951, 965, 989]...\n",
            "Tempo da Lista 1: 0.000261 segundos\n",
            "Tempo da Lista 2: 0.000180 segundos\n",
            "Tempo da Lista 3: 0.000174 segundos\n",
            "Tempo da Lista 4: 0.000170 segundos\n",
            "Tempo da Lista 5: 0.000349 segundos\n",
            "\n",
            "**A lista que foi ordenada mais rapidamente é a Lista 4 com um tempo de 0.000170 segundos.**\n"
          ]
        }
      ],
      "source": [
        "def split(listas_y):\n",
        "    novas_listas_z = []\n",
        "    for y_list in listas_y:\n",
        "        y_len = len(y_list)\n",
        "        meio = math.ceil(y_len / 2)\n",
        "\n",
        "        novas_listas_z.append(y_list[:meio])\n",
        "        novas_listas_z.append(y_list[meio:])\n",
        "\n",
        "    return novas_listas_z\n",
        "\n",
        "def multizip_merge(listas_y):\n",
        "    resultados_mesclados = []\n",
        "    num_pares = len(listas_y) // 2\n",
        "    for i in range(num_pares):\n",
        "        lista1 = listas_y[i*2]\n",
        "        lista2 = listas_y[i*2 + 1]\n",
        "\n",
        "        merged_list = []\n",
        "        ptr1, ptr2 = 0, 0\n",
        "\n",
        "        while ptr1 < len(lista1) and ptr2 < len(lista2):\n",
        "            if lista1[ptr1] <= lista2[ptr2]:\n",
        "                merged_list.append(lista1[ptr1])\n",
        "                ptr1 += 1\n",
        "            else:\n",
        "                merged_list.append(lista2[ptr2])\n",
        "                ptr2 += 1\n",
        "\n",
        "        merged_list.extend(lista1[ptr1:])\n",
        "        merged_list.extend(lista2[ptr2:])\n",
        "\n",
        "        resultados_mesclados.append(merged_list)\n",
        "\n",
        "    if len(listas_y) % 2 != 0:\n",
        "        resultados_mesclados.append(listas_y[-1])\n",
        "\n",
        "    return resultados_mesclados\n",
        "\n",
        "def multizip_sort(x):\n",
        "    if not isinstance(x, list):\n",
        "        raise TypeError(\"A entrada para multizip_sort deve ser uma lista.\")\n",
        "\n",
        "    y_lists = [x]\n",
        "\n",
        "    ## Continua dividindo até que todas as sublistas tenham tamanho <= 1\n",
        "    while any(len(lst) > 1 for lst in y_lists):\n",
        "        y_lists = split(y_lists)\n",
        "\n",
        "    ## Mescla as sublistas de volta até ter apenas uma lista ordenada\n",
        "    while len(y_lists) > 1:\n",
        "        y_lists = multizip_merge(y_lists)\n",
        "\n",
        "    return y_lists[0]\n",
        "\n",
        "todas_as_listas = []\n",
        "for i in range(5):\n",
        "    lista_aleatoria = [random.randint(0, 1000) for _ in range(100)]\n",
        "    todas_as_listas.append(lista_aleatoria)\n",
        "\n",
        "print(\"\\n--- Ordenando e comparando o tempo de cada lista ---\")\n",
        "tempos_ordenacao = []\n",
        "for i, lista in enumerate(todas_as_listas):\n",
        "\n",
        "    start_time = time.perf_counter() # Marca o tempo de início\n",
        "    lista_ordenada = multizip_sort(lista) # Chama sua função de ordenação\n",
        "    end_time = time.perf_counter()   # Marca o tempo de fim\n",
        "    tempo_gasto = end_time - start_time\n",
        "    tempos_ordenacao.append(tempo_gasto)\n",
        "\n",
        "    print(f\"\\nLista {i+1} ordenada: {lista_ordenada[:100]}...\")\n",
        "\n",
        "for i, tempo in enumerate(tempos_ordenacao):\n",
        "    print(f\"Tempo da Lista {i+1}: {tempo:.6f} segundos\")\n",
        "\n",
        "if tempos_ordenacao:\n",
        "    min_time = min(tempos_ordenacao)\n",
        "    min_index = tempos_ordenacao.index(min_time)\n",
        "    print(f\"\\n**A lista que foi ordenada mais rapidamente é a Lista {min_index + 1} com um tempo de {min_time:.6f} segundos.**\")\n",
        "else:\n",
        "    print(\"Nenhuma lista foi processada para comparação de tempo.\")\n"
      ]
    },
    {
      "cell_type": "markdown",
      "id": "4278fc55",
      "metadata": {
        "id": "4278fc55"
      },
      "source": [
        "## Comparação dos dois algoritmos"
      ]
    },
    {
      "cell_type": "code",
      "execution_count": null,
      "id": "2c8b3cef",
      "metadata": {
        "colab": {
          "base_uri": "https://localhost:8080/"
        },
        "id": "2c8b3cef",
        "outputId": "c5db43ca-33ed-463c-a8c5-bbc8fd4ce223"
      },
      "outputs": [
        {
          "output_type": "stream",
          "name": "stdout",
          "text": [
            "--- Tempos por Lista ---\n",
            "Lista 1: Corsort = 4.862685 s | Multizip = 0.000241 s\n",
            "Lista 2: Corsort = 3.501737 s | Multizip = 0.000176 s\n",
            "Lista 3: Corsort = 3.604588 s | Multizip = 0.000183 s\n",
            "Lista 4: Corsort = 4.676213 s | Multizip = 0.000181 s\n",
            "Lista 5: Corsort = 3.575569 s | Multizip = 0.000168 s\n",
            "\n",
            "--- Comparação Final ---\n",
            "**Multizip foi mais rápido no total: 0.000950 s vs 20.220792 s**\n"
          ]
        }
      ],
      "source": [
        "todas_as_listas = []\n",
        "for i in range(5):\n",
        "    lista_aleatoria = [random.randint(0, 1000) for _ in range(100)]\n",
        "    todas_as_listas.append(lista_aleatoria)\n",
        "\n",
        "tempos_corsort = []\n",
        "tempos_multizip = []\n",
        "\n",
        "for i, lista in enumerate(todas_as_listas):\n",
        "    # Corsort\n",
        "    inicio = time.perf_counter()\n",
        "    ordenada_corsort = corsort(lista)\n",
        "    fim = time.perf_counter()\n",
        "    tempo_corsort = fim - inicio\n",
        "    tempos_corsort.append(tempo_corsort)\n",
        "\n",
        "for i, lista in enumerate(todas_as_listas):\n",
        "    # Multizip\n",
        "    inicio = time.perf_counter()\n",
        "    ordenada_multizip = multizip_sort(lista)\n",
        "    fim = time.perf_counter()\n",
        "    tempo_multizip = fim - inicio\n",
        "    tempos_multizip.append(tempo_multizip)\n",
        "\n",
        "print(\"--- Tempos por Lista ---\")\n",
        "for i in range(5):\n",
        "    print(f\"Lista {i+1}: Corsort = {tempos_corsort[i]:.6f} s | Multizip = {tempos_multizip[i]:.6f} s\")\n",
        "\n",
        "\n",
        "# Melhor geral\n",
        "tempo_total_corsort = sum(tempos_corsort)\n",
        "tempo_total_multizip = sum(tempos_multizip)\n",
        "print(\"\\n--- Comparação Final ---\")\n",
        "if tempo_total_corsort < tempo_total_multizip:\n",
        "    print(f\"**Corsort foi mais rápido no total: {tempo_total_corsort:.6f} s vs {tempo_total_multizip:.6f} s**\")\n",
        "else:\n",
        "    print(f\"**Multizip foi mais rápido no total: {tempo_total_multizip:.6f} s vs {tempo_total_corsort:.6f} s**\")"
      ]
    },
    {
      "cell_type": "markdown",
      "source": [
        "##Implementação do Corsort com interrupção"
      ],
      "metadata": {
        "id": "Uvf5NGyRcbEs"
      },
      "id": "Uvf5NGyRcbEs"
    },
    {
      "cell_type": "code",
      "source": [
        "def corsort_interruptible(X, max_comparisons):\n",
        "    \"\"\"\n",
        "    Implementação do Corsort que pode ser interrompida após um número máximo de comparações.\n",
        "    Retorna a melhor estimativa da lista ordenada até o ponto de interrupção.\n",
        "    \"\"\"\n",
        "    start_time = time.perf_counter()  # Inicia a contagem do tempo\n",
        "\n",
        "    X = list(X)\n",
        "    n = len(X)\n",
        "    M = np.zeros((n, n), dtype=int)\n",
        "    comparisons = []\n",
        "    estimates = []\n",
        "\n",
        "    def update_partial_order(i, j):\n",
        "        \"\"\"Atualiza a matriz de ordem parcial com base em uma nova comparação.\"\"\"\n",
        "        for k in range(n):\n",
        "            if M[k, i] == 1:\n",
        "                for l in range(n):\n",
        "                    if M[j, l] == 1:\n",
        "                        M[k, l] = 1\n",
        "                        M[l, k] = -1\n",
        "\n",
        "    def compute_rho():\n",
        "        \"\"\"Calcula o valor rho para cada elemento, usado para estimar a ordem.\"\"\"\n",
        "        a = np.sum(M == 1, axis=1)\n",
        "        d = np.sum(M == 1, axis=0)\n",
        "        with np.errstate(divide='ignore', invalid='ignore'):\n",
        "            rho = d / (a + d)\n",
        "            rho[np.isnan(rho)] = 0.5\n",
        "        return rho\n",
        "\n",
        "    rho = compute_rho()\n",
        "\n",
        "    interrupted = False\n",
        "    while np.any(M == 0):\n",
        "        incomparables = [(i, j) for i in range(n) for j in range(i+1, n)\n",
        "                         if M[i, j] == 0 and M[j, i] == 0]\n",
        "\n",
        "        if not incomparables:\n",
        "            break # Nao ha mais comparacoes possiveis\n",
        "\n",
        "        if len(comparisons) >= max_comparisons:\n",
        "            interrupted = True\n",
        "            print(f\"--- Interrupção: Alcançado o limite de {max_comparacoes} comparações. ---\")\n",
        "            break\n",
        "\n",
        "        a = np.sum(M == 1, axis=1)\n",
        "        d = np.sum(M == 1, axis=0)\n",
        "        delta = d - a\n",
        "        I = a + d\n",
        "\n",
        "        # Tratamento para evitar erros se houver apenas um par incomparavel\n",
        "        if len(incomparables) == 1:\n",
        "            best_pair = incomparables[0]\n",
        "        else:\n",
        "             # Prioriza pares com a menor diferenca absoluta em delta, depois o maior I\n",
        "            best_pair = min(incomparables, key=lambda pair: (abs(delta[pair[0]] - delta[pair[1]]),\n",
        "                                                             max(I[pair[0]], I[pair[1]])))\n",
        "        i, j = best_pair\n",
        "\n",
        "        # Realiza a comparação\n",
        "        if X[i] > X[j]: # Compare X[i] and X[j] directly\n",
        "            # If X[i] > X[j], swap indices so i refers to the smaller element\n",
        "            i, j = j, i\n",
        "\n",
        "        # Now i is the index of the smaller element and j is the index of the larger element\n",
        "        M[i, j] = 1\n",
        "        M[j, i] = -1\n",
        "\n",
        "        comparisons.append((i, j))\n",
        "        update_partial_order(i, j)\n",
        "        rho = compute_rho()\n",
        "\n",
        "        # Gera as estimativas - opcionalmente pode gerar a cada k comparacoes para performance\n",
        "        sorted_indices = sorted(range(n), key=lambda i: rho[i])\n",
        "        estimate = [X[i] for i in sorted_indices]\n",
        "        estimates.append(estimate)\n",
        "\n",
        "    end_time = time.perf_counter() # Finaliza a contagem do tempo\n",
        "    print(f\"--- Tempo de execução: {end_time - start_time:.6f} segundos. ---\")\n",
        "\n",
        "    return estimates[-1] if estimates else list(X)"
      ],
      "metadata": {
        "id": "HLYHQ7hvchIt"
      },
      "id": "HLYHQ7hvchIt",
      "execution_count": null,
      "outputs": []
    },
    {
      "cell_type": "markdown",
      "source": [
        "## Implementação do Multizip com interrupção"
      ],
      "metadata": {
        "id": "cnuJMsWlcpzt"
      },
      "id": "cnuJMsWlcpzt"
    },
    {
      "cell_type": "code",
      "source": [
        "def multizip_sort_interruptible(x, max_comparisons):\n",
        "    if not isinstance(x, list):\n",
        "        raise TypeError(\"A entrada para multizip_sort deve ser uma lista.\")\n",
        "\n",
        "    start_time = time.perf_counter() # Inicia a contagem do tempo\n",
        "\n",
        "    comparison_counter = [0]  # encapsulado em lista para ser mutável\n",
        "    y_lists = [x]\n",
        "\n",
        "    def merge_interrupt(lista1, lista2):\n",
        "        result = []\n",
        "        ptr1 = ptr2 = 0\n",
        "        while ptr1 < len(lista1) and ptr2 < len(lista2):\n",
        "            if comparison_counter[0] >= max_comparisons:\n",
        "                # Interrompe a fusao atual se o limite for atingido\n",
        "                break\n",
        "            comparison_counter[0] += 1\n",
        "            if lista1[ptr1] <= lista2[ptr2]:\n",
        "                result.append(lista1[ptr1])\n",
        "                ptr1 += 1\n",
        "            else:\n",
        "                result.append(lista2[ptr2])\n",
        "                ptr2 += 1\n",
        "        result.extend(lista1[ptr1:])\n",
        "        result.extend(lista2[ptr2:])\n",
        "        return result\n",
        "\n",
        "    # Split até ter listas de tamanho 1\n",
        "    while any(len(lst) > 1 for lst in y_lists):\n",
        "        novas = []\n",
        "        for y in y_lists:\n",
        "            meio = math.ceil(len(y) / 2)\n",
        "            novas.append(y[:meio])\n",
        "            novas.append(y[meio:])\n",
        "        y_lists = novas\n",
        "\n",
        "    # Merge com interrupção\n",
        "    interrupted_merge = False\n",
        "    while len(y_lists) > 1:\n",
        "        nova_y = []\n",
        "        i = 0\n",
        "        while i + 1 < len(y_lists):\n",
        "            # Passa o contador de comparacoes para a funcao merge\n",
        "            merged = merge_interrupt(y_lists[i], y_lists[i + 1])\n",
        "            nova_y.append(merged)\n",
        "            i += 2\n",
        "            if comparison_counter[0] >= max_comparisons:\n",
        "                interrupted_merge = True\n",
        "                print(f\"--- Interrupção na fusão: Alcançado o limite de {max_comparisons} comparações. ---\")\n",
        "                break # Interrompe o loop de fusao atual\n",
        "        if i < len(y_lists) and not interrupted_merge:\n",
        "            nova_y.append(y_lists[i])\n",
        "        y_lists = nova_y\n",
        "\n",
        "        if interrupted_merge:\n",
        "            break # Interrompe o loop principal se a fusao foi interrompida\n",
        "\n",
        "\n",
        "    end_time = time.perf_counter() # Finaliza a contagem do tempo\n",
        "    print(f\"--- Tempo de execução: {end_time - start_time:.6f} segundos. ---\")\n",
        "\n",
        "    # Junta tudo mesmo se incompleto\n",
        "    resultado_final = []\n",
        "    for sub in y_lists:\n",
        "        resultado_final.extend(sub)\n",
        "\n",
        "    return resultado_final"
      ],
      "metadata": {
        "id": "JFLzF-_zcvLv"
      },
      "id": "JFLzF-_zcvLv",
      "execution_count": null,
      "outputs": []
    },
    {
      "cell_type": "markdown",
      "source": [
        "##Comparação"
      ],
      "metadata": {
        "id": "_Vx43TKac-po"
      },
      "id": "_Vx43TKac-po"
    },
    {
      "cell_type": "code",
      "source": [
        "lista = [random.randint(0, 1000) for _ in range(100)]\n",
        "\n",
        "print(\"Estimativa com Corsort (interrompido em 50 comparações):\")\n",
        "print(corsort_interruptible(lista, 50)[:20])\n",
        "\n",
        "print(\"\\nEstimativa com Multizip (interrompido em 50 comparações):\")\n",
        "print(multizip_sort_interruptible(lista, 50)[:20])\n"
      ],
      "metadata": {
        "colab": {
          "base_uri": "https://localhost:8080/"
        },
        "id": "Lh6tLoYpdAXv",
        "outputId": "12c0379e-cb53-4ae2-9ea3-1c40aa581f39"
      },
      "id": "Lh6tLoYpdAXv",
      "execution_count": null,
      "outputs": [
        {
          "output_type": "stream",
          "name": "stdout",
          "text": [
            "Estimativa com Corsort (interrompido em 50 comparações):\n",
            "--- Interrupção: Alcançado o limite de 75 comparações. ---\n",
            "--- Tempo de execução: 0.382464 segundos. ---\n",
            "[162, 147, 567, 82, 310, 263, 51, 390, 334, 223, 714, 418, 28, 80, 339, 193, 292, 389, 394, 147]\n",
            "\n",
            "Estimativa com Multizip (interrompido em 50 comparações):\n",
            "[147, 162, 216, 297, 209, 567, 758, 82, 310, 524, 51, 263, 657, 390, 482, 507, 334, 490, 954, 223]\n"
          ]
        }
      ]
    },
    {
      "cell_type": "markdown",
      "source": [
        "##Gráfico comparativo"
      ],
      "metadata": {
        "id": "MbtQft4bd4Ec"
      },
      "id": "MbtQft4bd4Ec"
    },
    {
      "cell_type": "code",
      "source": [
        "import numpy as np\n",
        "import math\n",
        "import random\n",
        "from scipy.stats import rankdata\n",
        "import matplotlib.pyplot as plt\n",
        "\n",
        "def spearman_footrule(estimate, true_sorted):\n",
        "    rank_estimate = rankdata(estimate, method='ordinal')\n",
        "    rank_true = rankdata(true_sorted, method='ordinal')\n",
        "    return sum(abs(rank_estimate[i] - rank_true[i]) for i in range(len(estimate)))\n",
        "\n",
        "def corsort_interruptible(X, max_comparisons):\n",
        "    X = list(X)\n",
        "    n = len(X)\n",
        "    M = np.zeros((n, n), dtype=int)\n",
        "    comparisons = []\n",
        "\n",
        "    def update_partial_order(i, j):\n",
        "        for k in range(n):\n",
        "            if M[k, i] == 1:\n",
        "                for l in range(n):\n",
        "                    if M[j, l] == 1:\n",
        "                        M[k, l] = 1\n",
        "                        M[l, k] = -1\n",
        "\n",
        "    def compute_rho():\n",
        "        a = np.sum(M == 1, axis=1)\n",
        "        d = np.sum(M == 1, axis=0)\n",
        "        with np.errstate(divide='ignore', invalid='ignore'):\n",
        "            rho = d / (a + d)\n",
        "            rho[np.isnan(rho)] = 0.5\n",
        "        return rho\n",
        "\n",
        "    rho = compute_rho()\n",
        "\n",
        "    while np.any(M == 0):\n",
        "        incomparables = [(i, j) for i in range(n) for j in range(i+1, n)\n",
        "                         if M[i, j] == 0 and M[j, i] == 0]\n",
        "        if not incomparables or len(comparisons) >= max_comparisons:\n",
        "            break\n",
        "\n",
        "        a = np.sum(M == 1, axis=1)\n",
        "        d = np.sum(M == 1, axis=0)\n",
        "        delta = d - a\n",
        "        I = a + d\n",
        "\n",
        "        best_pair = min(incomparables, key=lambda pair: (abs(delta[pair[0]] - delta[pair[1]]),\n",
        "                                                         max(I[pair[0]], I[pair[1]])))\n",
        "        i, j = best_pair\n",
        "\n",
        "        if X[i] < X[j]:\n",
        "            M[i, j] = 1\n",
        "            M[j, i] = -1\n",
        "        else:\n",
        "            M[i, j] = -1\n",
        "            M[j, i] = 1\n",
        "            i, j = j, i\n",
        "\n",
        "        comparisons.append((i, j))\n",
        "        update_partial_order(i, j)\n",
        "        rho = compute_rho()\n",
        "\n",
        "    sorted_indices = sorted(range(n), key=lambda i: rho[i])\n",
        "    return [X[i] for i in sorted_indices]\n",
        "\n",
        "def multizip_sort_interruptible(x, max_comparisons):\n",
        "    comparison_counter = [0]\n",
        "    y_lists = [x]\n",
        "\n",
        "    def merge_interrupt(lista1, lista2):\n",
        "        result = []\n",
        "        ptr1 = ptr2 = 0\n",
        "        while ptr1 < len(lista1) and ptr2 < len(lista2):\n",
        "            if comparison_counter[0] >= max_comparisons:\n",
        "                break\n",
        "            comparison_counter[0] += 1\n",
        "            if lista1[ptr1] <= lista2[ptr2]:\n",
        "                result.append(lista1[ptr1])\n",
        "                ptr1 += 1\n",
        "            else:\n",
        "                result.append(lista2[ptr2])\n",
        "                ptr2 += 1\n",
        "        result.extend(lista1[ptr1:])\n",
        "        result.extend(lista2[ptr2:])\n",
        "        return result\n",
        "\n",
        "    while any(len(lst) > 1 for lst in y_lists):\n",
        "        novas = []\n",
        "        for y in y_lists:\n",
        "            meio = math.ceil(len(y) / 2)\n",
        "            novas.append(y[:meio])\n",
        "            novas.append(y[meio:])\n",
        "        y_lists = novas\n",
        "\n",
        "    while len(y_lists) > 1:\n",
        "        nova_y = []\n",
        "        i = 0\n",
        "        while i + 1 < len(y_lists):\n",
        "            merged = merge_interrupt(y_lists[i], y_lists[i + 1])\n",
        "            nova_y.append(merged)\n",
        "            i += 2\n",
        "        if i < len(y_lists):\n",
        "            nova_y.append(y_lists[i])\n",
        "        y_lists = nova_y\n",
        "        if comparison_counter[0] >= max_comparisons:\n",
        "            break\n",
        "\n",
        "    resultado_final = []\n",
        "    for sub in y_lists:\n",
        "        resultado_final.extend(sub)\n",
        "    return resultado_final\n",
        "\n",
        "# Comparação visual\n",
        "random.seed(42)\n",
        "X = [random.randint(0, 1000) for _ in range(100)]\n",
        "true_sorted = sorted(X)\n",
        "\n",
        "ks = list(range(10, 101, 10))\n",
        "errors_corsort = []\n",
        "errors_multizip = []\n",
        "\n",
        "for k in ks:\n",
        "    est_corsort = corsort_interruptible(X, k)\n",
        "    est_multizip = multizip_sort_interruptible(X, k)\n",
        "    errors_corsort.append(spearman_footrule(est_corsort, true_sorted))\n",
        "    errors_multizip.append(spearman_footrule(est_multizip, true_sorted))\n",
        "\n",
        "# Gráfico\n",
        "plt.figure(figsize=(10, 6))\n",
        "plt.plot(ks, errors_corsort, marker='o', label='Corsort (interrompido)')\n",
        "plt.plot(ks, errors_multizip, marker='s', label='Multizip (interrompido)')\n",
        "plt.xlabel('Número de comparações permitidas')\n",
        "plt.ylabel('Erro de ordenação (Spearman Footrule)')\n",
        "plt.title('Comparação Anytime: Corsort vs Multizip')\n",
        "plt.legend()\n",
        "plt.grid(True)\n",
        "plt.tight_layout()\n",
        "plt.show()\n"
      ],
      "metadata": {
        "colab": {
          "base_uri": "https://localhost:8080/",
          "height": 526
        },
        "id": "JmBWkPkrd65-",
        "outputId": "b28acd2d-a6d4-48ec-f3ac-4fb1c96bc69a"
      },
      "id": "JmBWkPkrd65-",
      "execution_count": null,
      "outputs": [
        {
          "output_type": "display_data",
          "data": {
            "text/plain": [
              "<Figure size 1000x600 with 1 Axes>"
            ],
            "image/png": "[encoded data removed]"
          },
          "metadata": {}
        }
      ]
    },
    {
      "cell_type": "code",
      "metadata": {
        "colab": {
          "base_uri": "https://localhost:8080/"
        },
        "id": "59cc8c32",
        "outputId": "f001a648-d1c4-440d-85fb-e8625e175751"
      },
      "source": [
        "# Exemplo de uso da função corsort_interruptible modificada\n",
        "lista_exemplo = [random.randint(0, 1000) for _ in range(100)]\n",
        "max_comparacoes = 75 # Defina o número máximo de comparações para a interrupção\n",
        "\n",
        "print(f\"Executando Corsort com interrupção após {max_comparacoes} comparações:\")\n",
        "estimativa_corsort_interrompida = corsort_interruptible(lista_exemplo, max_comparacoes)\n",
        "\n",
        "print(\"\\nEstimativa parcial (primeiros 20 elementos):\")\n",
        "print(estimativa_corsort_interrompida[:20])"
      ],
      "id": "59cc8c32",
      "execution_count": null,
      "outputs": [
        {
          "output_type": "stream",
          "name": "stdout",
          "text": [
            "Executando Corsort com interrupção após 75 comparações:\n",
            "\n",
            "Estimativa parcial (primeiros 20 elementos):\n",
            "[214, 663, 73, 167, 276, 224, 332, 57, 32, 67, 580, 217, 405, 146, 142, 252, 551, 269, 438, 597]\n"
          ]
        }
      ]
    },
    {
      "cell_type": "code",
      "metadata": {
        "colab": {
          "base_uri": "https://localhost:8080/"
        },
        "id": "85d86167",
        "outputId": "ee3efc2f-107a-43f5-e2e3-6ec1ae5aaecd"
      },
      "source": [
        "# Exemplo de uso da função corsort_interruptible modificada\n",
        "lista_exemplo = [random.randint(0, 1000) for _ in range(100)]\n",
        "max_comparacoes = 75 # Defina o número máximo de comparações para a interrupção\n",
        "\n",
        "print(f\"Executando Corsort com interrupção após {max_comparacoes} comparações:\")\n",
        "estimativa_corsort_interrompida = corsort_interruptible(lista_exemplo, max_comparacoes)\n",
        "\n",
        "print(\"\\nEstimativa parcial (primeiros 20 elementos):\")\n",
        "print(estimativa_corsort_interrompida[:20])"
      ],
      "id": "85d86167",
      "execution_count": null,
      "outputs": [
        {
          "output_type": "stream",
          "name": "stdout",
          "text": [
            "Executando Corsort com interrupção após 75 comparações:\n",
            "\n",
            "Estimativa parcial (primeiros 20 elementos):\n",
            "[273, 114, 161, 3, 269, 182, 108, 519, 156, 165, 0, 19, 114, 826, 245, 59, 580, 80, 87, 497]\n"
          ]
        }
      ]
    },
    {
      "cell_type": "code",
      "metadata": {
        "colab": {
          "base_uri": "https://localhost:8080/"
        },
        "id": "ea6b2566",
        "outputId": "23f67131-96dc-4818-b792-3e994b8f1096"
      },
      "source": [
        "# Exemplo de uso da função multizip_sort_interruptible modificada\n",
        "lista_exemplo_multizip = [random.randint(0, 1000) for _ in range(100)]\n",
        "max_comparacoes_multizip = 75 # Defina o número máximo de comparações para a interrupção\n",
        "\n",
        "print(f\"Executando Multizip Sort com interrupção após {max_comparacoes_multizip} comparações:\")\n",
        "estimativa_multizip_interrompida = multizip_sort_interruptible(lista_exemplo_multizip, max_comparacoes_multizip)\n",
        "\n",
        "print(\"\\nEstimativa parcial (primeiros 20 elementos):\")\n",
        "print(estimativa_multizip_interrompida[:20])"
      ],
      "id": "ea6b2566",
      "execution_count": null,
      "outputs": [
        {
          "output_type": "stream",
          "name": "stdout",
          "text": [
            "Executando Multizip Sort com interrupção após 75 comparações:\n",
            "--- Interrupção na fusão: Alcançado o limite de 75 comparações. ---\n",
            "--- Tempo de execução: 0.000246 segundos. ---\n",
            "\n",
            "Estimativa parcial (primeiros 20 elementos):\n",
            "[65, 123, 230, 253, 21, 346, 602, 235, 567, 602, 7, 72, 225, 60, 646, 724, 69, 234, 927, 32]\n"
          ]
        }
      ]
    }
  ],
  "metadata": {
    "colab": {
      "provenance": [],
      "include_colab_link": true
    },
    "language_info": {
      "name": "python"
    },
    "kernelspec": {
      "name": "python3",
      "display_name": "Python 3"
    }
  },
  "nbformat": 4,
  "nbformat_minor": 5
}